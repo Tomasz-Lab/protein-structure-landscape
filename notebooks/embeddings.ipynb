{
 "cells": [
  {
   "cell_type": "markdown",
   "id": "e35b69e6-edd5-42ea-99c1-bcab405d2613",
   "metadata": {},
   "source": [
    "#### Create environment with Geometricus 0.5.0\n",
    "```\n",
    "conda create -n geometricus python=3.9 tqdm\n",
    "conda activate geometricus\n",
    "pip install git+https://github.com/TurtleTools/geometricus.git\n",
    "pip install papermill\n",
    "```"
   ]
  },
  {
   "cell_type": "markdown",
   "id": "8a3eb314-8c14-43c4-b397-53a7cc49c446",
   "metadata": {},
   "source": [
    "#### Notes:\n",
    "- Due to the large output, we recommend running this notebook using:  \n",
    "`papermill embeddings.ipynb embeddings_out.ipynb`  \n",
    "and deleting `embeddings_out.ipynb` afterward\n",
    "- There are two examples: small dataset (ProtGPT2) with 10,000 structures and large dataset (BFVD) with 351,242 structures\n",
    "- The second approach utilizes batching due to large RAM usage\n",
    "- Please adjust the code to generate embeddings for your own dataset (only filepath with PDB structres is required)"
   ]
  },
  {
   "cell_type": "code",
   "execution_count": null,
   "id": "fd19a8e5-fd3d-4fa8-acd7-e27aacbaaa39",
   "metadata": {},
   "outputs": [],
   "source": [
    "import geometricus\n",
    "import numpy as np\n",
    "import tqdm\n",
    "\n",
    "from pathlib import Path\n",
    "from geometricus import get_invariants_for_structures, Geometricus, ShapemerLearn"
   ]
  },
  {
   "cell_type": "code",
   "execution_count": null,
   "id": "8cfb826a-3790-4d38-8c82-36444b2b583e",
   "metadata": {},
   "outputs": [],
   "source": [
    "assert geometricus.__version__ == '0.5.0'"
   ]
  },
  {
   "cell_type": "code",
   "execution_count": null,
   "id": "8f87bd23-d87a-401d-8382-9731ff496724",
   "metadata": {},
   "outputs": [],
   "source": [
    "PROTGPT2_PATH = Path('/path/to/protgpt2/structures')\n",
    "BFVD_PATH = Path('/path/to/bfvd/structures')\n",
    "OUT_PATH = Path('/path/to/outputs')\n",
    "\n",
    "N_THREADS = 32  # number of CPU threads"
   ]
  },
  {
   "cell_type": "markdown",
   "id": "0e159271-6013-4ea1-a6a8-75197719db7f",
   "metadata": {},
   "source": [
    "# ProtGPT2"
   ]
  },
  {
   "cell_type": "markdown",
   "id": "0e8cacaf-e358-4158-b3bb-3a9f78090173",
   "metadata": {},
   "source": [
    "## Compute moments and invariants"
   ]
  },
  {
   "cell_type": "code",
   "execution_count": null,
   "id": "3ff07a03-c752-47e4-bbec-dd7e22822e21",
   "metadata": {},
   "outputs": [],
   "source": [
    "learned_invariants, learned_errors = get_invariants_for_structures(PROTGPT2_PATH, n_threads=N_THREADS)"
   ]
  },
  {
   "cell_type": "code",
   "execution_count": null,
   "id": "7c0effd6-9f8e-4807-913d-688df50f1812",
   "metadata": {},
   "outputs": [],
   "source": [
    "model = ShapemerLearn.load()"
   ]
  },
  {
   "cell_type": "markdown",
   "id": "e6dd09ac-c5f7-444b-ac43-bb8d75ef5c13",
   "metadata": {},
   "source": [
    "## Get count matrix (embeddings)"
   ]
  },
  {
   "cell_type": "code",
   "execution_count": null,
   "id": "e31141de-043a-4ed5-b05f-41b314842d1e",
   "metadata": {},
   "outputs": [],
   "source": [
    "shapemer_class = Geometricus.from_invariants(learned_invariants, model=model)"
   ]
  },
  {
   "cell_type": "markdown",
   "id": "2960252e-042d-4685-90d6-bb9e4527e8a3",
   "metadata": {},
   "source": [
    "## Objects to save"
   ]
  },
  {
   "cell_type": "code",
   "execution_count": null,
   "id": "013ea2cc-1c1c-4f07-9cba-6f521675082e",
   "metadata": {},
   "outputs": [],
   "source": [
    "with open(OUT_PATH / 'protgpt2_indices.txt', 'w') as f:\n",
    "    for el in shapemer_class.protein_keys:\n",
    "        f.write(f\"{el}\\n\")"
   ]
  },
  {
   "cell_type": "code",
   "execution_count": null,
   "id": "70e4494b-c74b-433a-a7b3-5cb36d0e3c04",
   "metadata": {},
   "outputs": [],
   "source": [
    "with open(OUT_PATH / 'protgpt2_keys.txt', 'w') as f:\n",
    "    for el in shapemer_class.shapemer_keys:\n",
    "        f.write(f\"{el}\\n\")"
   ]
  },
  {
   "cell_type": "code",
   "execution_count": null,
   "id": "d48d5d9d-6161-47bc-ba2f-2e98dfaf8f69",
   "metadata": {},
   "outputs": [],
   "source": [
    "basis = shapemer_class.get_count_matrix().astype(np.uint16)\n",
    "np.savez_compressed(OUT_PATH / 'protgpt2_shapemers.npz', matrix=basis)"
   ]
  },
  {
   "cell_type": "markdown",
   "id": "8fbda006-c59e-4513-88da-691812da3701",
   "metadata": {},
   "source": [
    "# BFVD"
   ]
  },
  {
   "cell_type": "markdown",
   "id": "cb166ea7-83c7-484b-a3d2-1f939a826df5",
   "metadata": {},
   "source": [
    "#### Note: we use batching, since the number of structures is large"
   ]
  },
  {
   "cell_type": "markdown",
   "id": "a3745302-9a30-4cde-8876-8f62be37523c",
   "metadata": {},
   "source": [
    "## Compute embeddings & save results"
   ]
  },
  {
   "cell_type": "code",
   "execution_count": null,
   "id": "a703654c-8cba-4128-ad56-c8a56dbda49e",
   "metadata": {},
   "outputs": [],
   "source": [
    "model = ShapemerLearn.load()"
   ]
  },
  {
   "cell_type": "code",
   "execution_count": null,
   "id": "5352b2a2-0aba-4cdd-9673-c66c82272435",
   "metadata": {},
   "outputs": [],
   "source": [
    "def batch_files(path, batch_size):\n",
    "    batches = []\n",
    "    for i in path.glob(\"*\"):\n",
    "        batches.append(i)\n",
    "        if len(batches)==batch_size:\n",
    "            yield batches\n",
    "            batches = []\n",
    "    yield batches"
   ]
  },
  {
   "cell_type": "code",
   "execution_count": null,
   "id": "0b8a9470-cc37-468a-8985-e993fe3b0ed7",
   "metadata": {
    "scrolled": true
   },
   "outputs": [],
   "source": [
    "(OUT_PATH / BFVD_PATH.name).mkdir(parents=True, exist_ok=True)\n",
    "\n",
    "for enum, batch in enumerate(tqdm.tqdm(list(batch_files(BFVD_PATH, N_THREADS * 100)))):\n",
    "    learned_invariants, learned_errors = get_invariants_for_structures(batch, n_threads=N_THREADS, verbose=False)\n",
    "    # Get count matrix (embeddings)\n",
    "    shapemer_class = Geometricus.from_invariants(learned_invariants, model=model)\n",
    "\n",
    "    # Save\n",
    "    with open(OUT_PATH / BFVD_PATH.name / f'{enum}_indices.txt', 'w') as f:\n",
    "        for el in shapemer_class.protein_keys:\n",
    "            f.write(f\"{el}\\n\")\n",
    "    with open(OUT_PATH / BFVD_PATH.name / f'{enum}_keys.txt', 'w') as f:\n",
    "        for el in shapemer_class.shapemer_keys:\n",
    "            f.write(f\"{el}\\n\")\n",
    "\n",
    "    count_matrix = shapemer_class.get_count_matrix()\n",
    "    assert count_matrix.max() < 65_000\n",
    "    basis = count_matrix.astype(np.uint16)\n",
    "    np.savez_compressed(OUT_PATH / BFVD_PATH.name / f'{enum}_shapemers.npz', matrix=basis)"
   ]
  }
 ],
 "metadata": {
  "kernelspec": {
   "display_name": "geometricus",
   "language": "python",
   "name": "geometricus"
  },
  "language_info": {
   "codemirror_mode": {
    "name": "ipython",
    "version": 3
   },
   "file_extension": ".py",
   "mimetype": "text/x-python",
   "name": "python",
   "nbconvert_exporter": "python",
   "pygments_lexer": "ipython3",
   "version": "3.9.21"
  }
 },
 "nbformat": 4,
 "nbformat_minor": 5
}
