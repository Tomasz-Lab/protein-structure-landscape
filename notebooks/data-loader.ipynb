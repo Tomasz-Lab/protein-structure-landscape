{
 "cells": [
  {
   "cell_type": "code",
   "execution_count": 1,
   "id": "827d025f-b3ff-4e3f-91ba-6a063b2a48e2",
   "metadata": {},
   "outputs": [],
   "source": [
    "# make sure to:\n",
    "# 1) install `fastparquet` in your Python environment\n",
    "# 2) use `pandas` version >= 1.0\n",
    "\n",
    "import pandas as pd  \n",
    "import numpy as np\n",
    "\n",
    "from pathlib import Path"
   ]
  },
  {
   "cell_type": "markdown",
   "id": "02db0352-a14c-44b2-9ccf-7dc20802a6f1",
   "metadata": {},
   "source": [
    "# Globals"
   ]
  },
  {
   "cell_type": "code",
   "execution_count": 2,
   "id": "752cbac2-e86c-4106-90ca-16474a9aedd0",
   "metadata": {},
   "outputs": [],
   "source": [
    "DATA_PATH = Path(\"../data\") # specify data directory"
   ]
  },
  {
   "cell_type": "code",
   "execution_count": 3,
   "id": "c03566a6-bdcf-4975-a93f-db94a2edf809",
   "metadata": {},
   "outputs": [
    {
     "name": "stdout",
     "output_type": "stream",
     "text": [
      "coordinates.parquet    heterogeneity_hq.parquet\n",
      "heterogeneity.parquet  supercogs.parquet\n"
     ]
    }
   ],
   "source": [
    "ls {DATA_PATH}"
   ]
  },
  {
   "cell_type": "markdown",
   "id": "f2281e8c-e5f5-49bb-a638-ab1a57281b7d",
   "metadata": {},
   "source": [
    "# Load data"
   ]
  },
  {
   "cell_type": "markdown",
   "id": "25dc39be-b7fb-424b-970b-abebe413e353",
   "metadata": {},
   "source": [
    "Below, we use the following naming convention:\n",
    "\n",
    "- *cluster*: group of at least 2 proteins\n",
    "- *singleton*: group of 1 protein\n",
    "- *structure representative*: name of protein that has the most representative structure (according to Foldseek) in a group\n",
    "\n",
    "There are three main pandas dataframes available in the `data` folder:\n",
    "\n",
    "`coordinates.parquet` - describes features of structure representatives in the structure space\n",
    "- `x`: first coordinate in the protein structure space (for normalized Geometricus representations) (`float32`)\n",
    "- `y`: second coordinate in the protein structure space (for normalized Geometricus representations) (`float32`)\n",
    "- `x_un`: first coordinate in the protein structure space (for unnormalized Geometricus representations) (`float32`)\n",
    "- `y_un`: second coordinate in the protein structure space (for unnormalized Geometricus representations) (`float32`)\n",
    "- `origin`: database to which a protein belongs (`category`)\n",
    "- `is_cluster`: whether a protein builds a cluster; otherwise is a singleton (`bool`)\n",
    "- `length`: protein length (`int16`)\n",
    "- `afdb_pLDDT`: AFDB protein pLDDT (`float32`)\n",
    "\n",
    "`supercogs.parquet` - contains functional annotations of all structures in the final database\n",
    "- `cluster_or_singleton`: name of cluster or singleton to which a protein belongs (`category`)\n",
    "- `afdb_hq`: if an AFDB protein is of high quality (pLDDT > 70) (`boolean`)\n",
    "- `superCOG_v10`: deepFRI v1.0 superCOG prediction (`category`)\n",
    "- `superCOG_v11`: deepFRI v1.1 superCOG prediction (`category`)\n",
    "\n",
    "`heterogeneity.parquet` - comprises number of structures from each database in a given cluster / singleton\n",
    "- `counts_afdb_light`: number of structures from AFDB light clusters (`int16`)\n",
    "- `counts_afdb_dark`: number of structures from AFDB dark clusters (`int16`)\n",
    "- `counts_esmatlas`: number of structures from ESMAtlas (`int16`)\n",
    "- `counts_mip_clusters`: number of structures from MIP clusters (`int16`)\n",
    "- `counts_mip_singletons`: number of structures from MIP singletons (`int16`)\n",
    "\n",
    "`heterogeneity_hq.parquet` - the same as above but considering high quality AFDB structures only"
   ]
  },
  {
   "cell_type": "code",
   "execution_count": 4,
   "id": "6cd980c2-ed75-4823-a740-1e79b56c6fcc",
   "metadata": {},
   "outputs": [],
   "source": [
    "coordinates      = pd.read_parquet(DATA_PATH / 'coordinates.parquet')\n",
    "supercogs        = pd.read_parquet(DATA_PATH / 'supercogs.parquet')\n",
    "heterogeneity    = pd.read_parquet(DATA_PATH / 'heterogeneity.parquet')\n",
    "heterogeneity_hq = pd.read_parquet(DATA_PATH / 'heterogeneity_hq.parquet')"
   ]
  },
  {
   "cell_type": "markdown",
   "id": "9aecac12-ee5f-4399-81ba-ed7fa03c1efe",
   "metadata": {},
   "source": [
    "# Explore data"
   ]
  },
  {
   "cell_type": "markdown",
   "id": "c3f12166-9a1c-4415-b4ec-866bd456628a",
   "metadata": {},
   "source": [
    "## Basic statistics"
   ]
  },
  {
   "cell_type": "markdown",
   "id": "b914cd6a-eb78-4342-becb-5eac0a39c9e7",
   "metadata": {},
   "source": [
    "#### Number of representative structures (clusters + singletons)"
   ]
  },
  {
   "cell_type": "code",
   "execution_count": 5,
   "id": "c79399a7-5c64-4696-b6d3-8c522bb7b81b",
   "metadata": {},
   "outputs": [
    {
     "data": {
      "text/plain": [
       "1505141"
      ]
     },
     "execution_count": 5,
     "metadata": {},
     "output_type": "execute_result"
    }
   ],
   "source": [
    "assert len(coordinates) == len(heterogeneity)\n",
    "len(coordinates)"
   ]
  },
  {
   "cell_type": "markdown",
   "id": "04cb2f20-bb26-431f-9fc9-cd62c4481440",
   "metadata": {},
   "source": [
    "#### Number of representative structures (clusters + singletons) including only high quality AFDB models"
   ]
  },
  {
   "cell_type": "code",
   "execution_count": 6,
   "id": "1c4af619-96f6-4f01-8e75-b92ee329c133",
   "metadata": {},
   "outputs": [
    {
     "data": {
      "text/plain": [
       "1070401"
      ]
     },
     "execution_count": 6,
     "metadata": {},
     "output_type": "execute_result"
    }
   ],
   "source": [
    "len(heterogeneity_hq)"
   ]
  },
  {
   "cell_type": "markdown",
   "id": "8bb834ba-5305-45f4-965b-aa94dcaddd3f",
   "metadata": {},
   "source": [
    "#### Number of all structures in the final clustered database"
   ]
  },
  {
   "cell_type": "code",
   "execution_count": 7,
   "id": "40000eeb-cc56-49a2-850f-4ea0ef07a4f3",
   "metadata": {},
   "outputs": [
    {
     "name": "stdout",
     "output_type": "stream",
     "text": [
      "4035121\n"
     ]
    }
   ],
   "source": [
    "assert heterogeneity.sum().sum() == len(supercogs)\n",
    "print(heterogeneity.sum().sum())"
   ]
  },
  {
   "cell_type": "markdown",
   "id": "08dd3ac4-ab10-4ce7-962c-0e5fafc398cb",
   "metadata": {},
   "source": [
    "#### Number of all structures in the final clustered database including only high quality AFDB models"
   ]
  },
  {
   "cell_type": "code",
   "execution_count": 8,
   "id": "f7fef4e0-21c8-48f4-bf19-980366b45faf",
   "metadata": {},
   "outputs": [
    {
     "name": "stdout",
     "output_type": "stream",
     "text": [
      "3060808\n"
     ]
    }
   ],
   "source": [
    "assert heterogeneity_hq.sum().sum() == len(supercogs[supercogs.afdb_hq | supercogs.afdb_hq.isna()])\n",
    "print(heterogeneity_hq.sum().sum())"
   ]
  }
 ],
 "metadata": {
  "kernelspec": {
   "display_name": "kit",
   "language": "python",
   "name": "kit"
  },
  "language_info": {
   "codemirror_mode": {
    "name": "ipython",
    "version": 3
   },
   "file_extension": ".py",
   "mimetype": "text/x-python",
   "name": "python",
   "nbconvert_exporter": "python",
   "pygments_lexer": "ipython3",
   "version": "3.9.18"
  }
 },
 "nbformat": 4,
 "nbformat_minor": 5
}
