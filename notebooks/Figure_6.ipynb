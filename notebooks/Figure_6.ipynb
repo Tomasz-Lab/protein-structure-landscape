{
 "cells": [
  {
   "cell_type": "code",
   "execution_count": 1,
   "id": "73f1db14-a030-4922-b2ff-7801156fb670",
   "metadata": {
    "execution": {
     "iopub.execute_input": "2025-05-05T07:14:58.109053Z",
     "iopub.status.busy": "2025-05-05T07:14:58.108754Z",
     "iopub.status.idle": "2025-05-05T07:14:59.240084Z",
     "shell.execute_reply": "2025-05-05T07:14:59.239231Z",
     "shell.execute_reply.started": "2025-05-05T07:14:58.109023Z"
    }
   },
   "outputs": [],
   "source": [
    "import pandas as pd\n",
    "import seaborn as sns\n",
    "import matplotlib.pyplot as plt\n",
    "import numpy as np\n",
    "import plotly.express as px\n",
    "import plotly\n",
    "\n",
    "from pathlib import Path\n",
    "from ast import literal_eval\n",
    "from tqdm import tqdm\n",
    "from scipy.stats import entropy"
   ]
  },
  {
   "cell_type": "code",
   "execution_count": 2,
   "id": "165e28ae-6484-4786-bfe0-d247c2b8aaca",
   "metadata": {
    "execution": {
     "iopub.execute_input": "2025-05-05T07:14:59.241158Z",
     "iopub.status.busy": "2025-05-05T07:14:59.240861Z",
     "iopub.status.idle": "2025-05-05T07:14:59.245550Z",
     "shell.execute_reply": "2025-05-05T07:14:59.244986Z",
     "shell.execute_reply.started": "2025-05-05T07:14:59.241140Z"
    }
   },
   "outputs": [],
   "source": [
    "DATA_PATH = Path(\"../data\")  # specify data directory"
   ]
  },
  {
   "cell_type": "markdown",
   "id": "8cd63736-c998-4450-b86a-4dfb3731c942",
   "metadata": {},
   "source": [
    "# Load data"
   ]
  },
  {
   "cell_type": "code",
   "execution_count": 3,
   "id": "6a34a768-47b9-4d33-94eb-7eac93afa912",
   "metadata": {
    "execution": {
     "iopub.execute_input": "2025-05-05T07:14:59.247173Z",
     "iopub.status.busy": "2025-05-05T07:14:59.246965Z",
     "iopub.status.idle": "2025-05-05T07:14:59.251173Z",
     "shell.execute_reply": "2025-05-05T07:14:59.250666Z",
     "shell.execute_reply.started": "2025-05-05T07:14:59.247156Z"
    }
   },
   "outputs": [],
   "source": [
    "dbs = ['afdb_light', 'afdb_dark', 'mip', 'esm']"
   ]
  },
  {
   "cell_type": "code",
   "execution_count": 4,
   "id": "a288d970-a5e9-4eef-b0c6-1f7358492881",
   "metadata": {
    "execution": {
     "iopub.execute_input": "2025-05-05T07:14:59.251976Z",
     "iopub.status.busy": "2025-05-05T07:14:59.251790Z",
     "iopub.status.idle": "2025-05-05T07:15:01.095528Z",
     "shell.execute_reply": "2025-05-05T07:15:01.094562Z",
     "shell.execute_reply.started": "2025-05-05T07:14:59.251961Z"
    }
   },
   "outputs": [],
   "source": [
    "taxonomy = {}\n",
    "for db in dbs:\n",
    "    taxonomy[db] = pd.read_parquet(DATA_PATH / f\"{db}_taxonomy.parquet\")\n",
    "    if db != 'esm':\n",
    "        # rename Unassigned to Unknown since it is very rare category\n",
    "        taxonomy[db]['division_name'] = taxonomy[db]['division_name'].str.replace(\"Unassigned\", \"Unknown\")"
   ]
  },
  {
   "cell_type": "markdown",
   "id": "ea406402-5349-4e47-babc-2719754a79ee",
   "metadata": {},
   "source": [
    "### High-quality AFDB proteins"
   ]
  },
  {
   "cell_type": "code",
   "execution_count": 5,
   "id": "384271cc-cbd6-4096-9221-c8fb4f711b81",
   "metadata": {
    "execution": {
     "iopub.execute_input": "2025-05-05T07:15:01.096655Z",
     "iopub.status.busy": "2025-05-05T07:15:01.096362Z",
     "iopub.status.idle": "2025-05-05T07:15:01.797929Z",
     "shell.execute_reply": "2025-05-05T07:15:01.796916Z",
     "shell.execute_reply.started": "2025-05-05T07:15:01.096638Z"
    }
   },
   "outputs": [],
   "source": [
    "afdb_hq = pd.read_csv(DATA_PATH / 'intermediate' / 'afdb_hq.csv')\n",
    "afdb_hq = afdb_hq[afdb_hq.globalMetricValue >= 70].name.values"
   ]
  },
  {
   "cell_type": "markdown",
   "id": "5ee78c92-a586-4f2c-806f-6c7a3d37f859",
   "metadata": {},
   "source": [
    "### All clusters"
   ]
  },
  {
   "cell_type": "code",
   "execution_count": 6,
   "id": "c549d0ad-3b4e-4eb5-be63-7dc07eec96b7",
   "metadata": {
    "execution": {
     "iopub.execute_input": "2025-05-05T07:15:01.799255Z",
     "iopub.status.busy": "2025-05-05T07:15:01.799029Z",
     "iopub.status.idle": "2025-05-05T07:15:18.434676Z",
     "shell.execute_reply": "2025-05-05T07:15:18.433721Z",
     "shell.execute_reply.started": "2025-05-05T07:15:01.799237Z"
    }
   },
   "outputs": [],
   "source": [
    "all_clusters = pd.read_csv(DATA_PATH / 'intermediate' / 'all_clusters.csv')\n",
    "all_clusters['Protein'] = all_clusters['Protein'].apply(lambda x: literal_eval(str(x)))"
   ]
  },
  {
   "cell_type": "markdown",
   "id": "7fad1805-fbef-4d29-9ca4-bd8e1895f723",
   "metadata": {},
   "source": [
    "### High-quality cluster identifiers"
   ]
  },
  {
   "cell_type": "code",
   "execution_count": 7,
   "id": "bde14ab9-2692-43ce-acec-1550cb535a1e",
   "metadata": {
    "execution": {
     "iopub.execute_input": "2025-05-05T07:15:18.435675Z",
     "iopub.status.busy": "2025-05-05T07:15:18.435495Z",
     "iopub.status.idle": "2025-05-05T07:15:18.715552Z",
     "shell.execute_reply": "2025-05-05T07:15:18.714633Z",
     "shell.execute_reply.started": "2025-05-05T07:15:18.435660Z"
    }
   },
   "outputs": [],
   "source": [
    "heterogeneity_hq = pd.read_parquet(DATA_PATH / 'heterogeneity_hq.parquet')\n",
    "heterogeneity_hq['counts_total'] = heterogeneity_hq.sum(axis=1)\n",
    "heterogeneity_hq['prop_esm'] = heterogeneity_hq['counts_esmatlas'] / heterogeneity_hq['counts_total']"
   ]
  },
  {
   "cell_type": "markdown",
   "id": "f84345c0-1aac-4ec2-98cf-1caf93e50978",
   "metadata": {},
   "source": [
    "### Preprocess ESM biomes"
   ]
  },
  {
   "cell_type": "code",
   "execution_count": 8,
   "id": "a5bd6413-8f6a-428c-84c2-0737d46bd61d",
   "metadata": {
    "execution": {
     "iopub.execute_input": "2025-05-05T07:15:18.716656Z",
     "iopub.status.busy": "2025-05-05T07:15:18.716472Z",
     "iopub.status.idle": "2025-05-05T07:15:22.629783Z",
     "shell.execute_reply": "2025-05-05T07:15:22.628734Z",
     "shell.execute_reply.started": "2025-05-05T07:15:18.716641Z"
    }
   },
   "outputs": [],
   "source": [
    "taxonomy['esm']['biome_category'] = taxonomy['esm'].biome.str.split(':').apply(lambda x: ', '.join(x[1:3])).str.replace(',root', '')\n",
    "taxonomy['esm']['biome_category'] = taxonomy['esm']['biome_category'].replace('', 'Unknown')"
   ]
  },
  {
   "cell_type": "code",
   "execution_count": 9,
   "id": "14f99ff8-5d19-4dd5-a1d3-90b99f98c971",
   "metadata": {
    "execution": {
     "iopub.execute_input": "2025-05-05T07:15:22.630894Z",
     "iopub.status.busy": "2025-05-05T07:15:22.630706Z",
     "iopub.status.idle": "2025-05-05T07:15:22.739518Z",
     "shell.execute_reply": "2025-05-05T07:15:22.738718Z",
     "shell.execute_reply.started": "2025-05-05T07:15:22.630879Z"
    }
   },
   "outputs": [],
   "source": [
    "esm_categories = taxonomy['esm']['biome_category'].value_counts().to_frame().reset_index()"
   ]
  },
  {
   "cell_type": "code",
   "execution_count": 10,
   "id": "e187aa2d-c6e8-40fa-b243-5da37f5902e6",
   "metadata": {
    "execution": {
     "iopub.execute_input": "2025-05-05T07:15:22.740369Z",
     "iopub.status.busy": "2025-05-05T07:15:22.740199Z",
     "iopub.status.idle": "2025-05-05T07:15:22.760391Z",
     "shell.execute_reply": "2025-05-05T07:15:22.759773Z",
     "shell.execute_reply.started": "2025-05-05T07:15:22.740354Z"
    }
   },
   "outputs": [],
   "source": [
    "# Merge small categories into \"Other\"\n",
    "threshold = 20_000\n",
    "esm_categories['main_category'] = esm_categories['biome_category'].str.split(', ').str[0]  # Extract main category\n",
    "# Mark categories to be merged\n",
    "esm_categories['biome_category'] = esm_categories.apply(\n",
    "    lambda row: f\"{row['main_category']}, Other\" if row['count'] < threshold else row['biome_category'],\n",
    "    axis=1)\n",
    "# Sum counts for new categories\n",
    "esm_categories = esm_categories.groupby('biome_category', as_index=False)['count'].sum()\n",
    "# Drop the extra column\n",
    "esm_categories = esm_categories.drop(columns=['main_category'], errors='ignore')\n",
    "# Replace `Unkown, Other` category to the original name\n",
    "esm_categories.loc[esm_categories['biome_category'] == 'Unknown, Other', 'biome_category'] = 'Unknown'\n",
    "# Sort values\n",
    "esm_categories = esm_categories.sort_values(by=\"count\", ascending=False)"
   ]
  },
  {
   "cell_type": "markdown",
   "id": "0c90ee48-b202-42ef-8cc5-59651cd20663",
   "metadata": {},
   "source": [
    "# Basic taxonomic categories"
   ]
  },
  {
   "cell_type": "code",
   "execution_count": 11,
   "id": "c2f3e6fc-2562-469f-a4f0-445ad0f623f0",
   "metadata": {
    "execution": {
     "iopub.execute_input": "2025-05-05T07:15:22.761279Z",
     "iopub.status.busy": "2025-05-05T07:15:22.761090Z",
     "iopub.status.idle": "2025-05-05T07:15:22.811479Z",
     "shell.execute_reply": "2025-05-05T07:15:22.810774Z",
     "shell.execute_reply.started": "2025-05-05T07:15:22.761264Z"
    }
   },
   "outputs": [
    {
     "data": {
      "text/plain": [
       "division_name\n",
       "Bacteria                 418377\n",
       "Plants and Fungi         169777\n",
       "Invertebrates             87467\n",
       "Environmental samples     18003\n",
       "Vertebrates               10117\n",
       "Unknown                    4040\n",
       "Mammals                    2623\n",
       "Primates                    697\n",
       "Rodents                     604\n",
       "Name: count, dtype: int64"
      ]
     },
     "execution_count": 11,
     "metadata": {},
     "output_type": "execute_result"
    }
   ],
   "source": [
    "taxonomy['afdb_dark'].division_name.value_counts()#normalize=True)"
   ]
  },
  {
   "cell_type": "code",
   "execution_count": 12,
   "id": "8716063a-9abc-4f4f-b4b7-78185380bb0c",
   "metadata": {
    "execution": {
     "iopub.execute_input": "2025-05-05T07:15:22.813561Z",
     "iopub.status.busy": "2025-05-05T07:15:22.813388Z",
     "iopub.status.idle": "2025-05-05T07:15:22.920197Z",
     "shell.execute_reply": "2025-05-05T07:15:22.919426Z",
     "shell.execute_reply.started": "2025-05-05T07:15:22.813548Z"
    }
   },
   "outputs": [
    {
     "data": {
      "text/plain": [
       "division_name\n",
       "Bacteria                 788758\n",
       "Plants and Fungi         413705\n",
       "Invertebrates            264923\n",
       "Vertebrates               59231\n",
       "Environmental samples     29724\n",
       "Mammals                   18077\n",
       "Unknown                    7368\n",
       "Rodents                    4711\n",
       "Primates                   4703\n",
       "Phages                        3\n",
       "Name: count, dtype: int64"
      ]
     },
     "execution_count": 12,
     "metadata": {},
     "output_type": "execute_result"
    }
   ],
   "source": [
    "taxonomy['afdb_light'].division_name.value_counts()#normalize=True)"
   ]
  },
  {
   "cell_type": "code",
   "execution_count": 13,
   "id": "d99d2fdd-1575-4cfd-9ec2-ff4622883a6d",
   "metadata": {
    "execution": {
     "iopub.execute_input": "2025-05-05T07:15:22.920943Z",
     "iopub.status.busy": "2025-05-05T07:15:22.920783Z",
     "iopub.status.idle": "2025-05-05T07:15:22.939965Z",
     "shell.execute_reply": "2025-05-05T07:15:22.939283Z",
     "shell.execute_reply.started": "2025-05-05T07:15:22.920930Z"
    }
   },
   "outputs": [
    {
     "data": {
      "text/plain": [
       "division_name\n",
       "Bacteria    208091\n",
       "Unknown       2978\n",
       "Name: count, dtype: int64"
      ]
     },
     "execution_count": 13,
     "metadata": {},
     "output_type": "execute_result"
    }
   ],
   "source": [
    "taxonomy['mip'].division_name.value_counts()"
   ]
  },
  {
   "cell_type": "code",
   "execution_count": 14,
   "id": "84f95ee1-959b-430c-9dcf-0bf4bbec3d8b",
   "metadata": {
    "execution": {
     "iopub.execute_input": "2025-05-05T07:15:22.940971Z",
     "iopub.status.busy": "2025-05-05T07:15:22.940806Z",
     "iopub.status.idle": "2025-05-05T07:15:22.948985Z",
     "shell.execute_reply": "2025-05-05T07:15:22.948487Z",
     "shell.execute_reply.started": "2025-05-05T07:15:22.940958Z"
    }
   },
   "outputs": [
    {
     "data": {
      "text/html": [
       "<div>\n",
       "<style scoped>\n",
       "    .dataframe tbody tr th:only-of-type {\n",
       "        vertical-align: middle;\n",
       "    }\n",
       "\n",
       "    .dataframe tbody tr th {\n",
       "        vertical-align: top;\n",
       "    }\n",
       "\n",
       "    .dataframe thead th {\n",
       "        text-align: right;\n",
       "    }\n",
       "</style>\n",
       "<table border=\"1\" class=\"dataframe\">\n",
       "  <thead>\n",
       "    <tr style=\"text-align: right;\">\n",
       "      <th></th>\n",
       "      <th>biome_category</th>\n",
       "      <th>count</th>\n",
       "    </tr>\n",
       "  </thead>\n",
       "  <tbody>\n",
       "    <tr>\n",
       "      <th>4</th>\n",
       "      <td>Environmental, Aquatic</td>\n",
       "      <td>787222</td>\n",
       "    </tr>\n",
       "    <tr>\n",
       "      <th>3</th>\n",
       "      <td>Engineered, Wastewater</td>\n",
       "      <td>186974</td>\n",
       "    </tr>\n",
       "    <tr>\n",
       "      <th>7</th>\n",
       "      <td>Host-associated, Human</td>\n",
       "      <td>127475</td>\n",
       "    </tr>\n",
       "    <tr>\n",
       "      <th>11</th>\n",
       "      <td>Mixed</td>\n",
       "      <td>124283</td>\n",
       "    </tr>\n",
       "    <tr>\n",
       "      <th>0</th>\n",
       "      <td>Engineered, Bioreactor</td>\n",
       "      <td>85900</td>\n",
       "    </tr>\n",
       "    <tr>\n",
       "      <th>10</th>\n",
       "      <td>Host-associated, Plants</td>\n",
       "      <td>71085</td>\n",
       "    </tr>\n",
       "    <tr>\n",
       "      <th>6</th>\n",
       "      <td>Environmental, Terrestrial</td>\n",
       "      <td>64533</td>\n",
       "    </tr>\n",
       "    <tr>\n",
       "      <th>2</th>\n",
       "      <td>Engineered, Other</td>\n",
       "      <td>61154</td>\n",
       "    </tr>\n",
       "    <tr>\n",
       "      <th>8</th>\n",
       "      <td>Host-associated, Mammals</td>\n",
       "      <td>47787</td>\n",
       "    </tr>\n",
       "    <tr>\n",
       "      <th>1</th>\n",
       "      <td>Engineered, Bioremediation</td>\n",
       "      <td>31302</td>\n",
       "    </tr>\n",
       "    <tr>\n",
       "      <th>9</th>\n",
       "      <td>Host-associated, Other</td>\n",
       "      <td>26731</td>\n",
       "    </tr>\n",
       "    <tr>\n",
       "      <th>12</th>\n",
       "      <td>Unknown</td>\n",
       "      <td>11493</td>\n",
       "    </tr>\n",
       "    <tr>\n",
       "      <th>5</th>\n",
       "      <td>Environmental, Other</td>\n",
       "      <td>4669</td>\n",
       "    </tr>\n",
       "  </tbody>\n",
       "</table>\n",
       "</div>"
      ],
      "text/plain": [
       "                biome_category   count\n",
       "4       Environmental, Aquatic  787222\n",
       "3       Engineered, Wastewater  186974\n",
       "7       Host-associated, Human  127475\n",
       "11                       Mixed  124283\n",
       "0       Engineered, Bioreactor   85900\n",
       "10     Host-associated, Plants   71085\n",
       "6   Environmental, Terrestrial   64533\n",
       "2            Engineered, Other   61154\n",
       "8     Host-associated, Mammals   47787\n",
       "1   Engineered, Bioremediation   31302\n",
       "9       Host-associated, Other   26731\n",
       "12                     Unknown   11493\n",
       "5         Environmental, Other    4669"
      ]
     },
     "execution_count": 14,
     "metadata": {},
     "output_type": "execute_result"
    }
   ],
   "source": [
    "esm_categories.sort_values('count', ascending=False)"
   ]
  },
  {
   "cell_type": "markdown",
   "id": "eae8df23-f4ae-4e7b-a672-7927961b7185",
   "metadata": {},
   "source": [
    "#\n",
    "---\n",
    "# Plots\n",
    "---"
   ]
  },
  {
   "cell_type": "markdown",
   "id": "3895ed2b-c5aa-4918-9809-290e01f7c165",
   "metadata": {},
   "source": [
    "# Figure 6 (panels A, B)\n",
    "## AFDB + MIP"
   ]
  },
  {
   "cell_type": "code",
   "execution_count": 15,
   "id": "39ee6411-5a6a-4c8d-82fa-2c33d50d26bf",
   "metadata": {
    "execution": {
     "iopub.execute_input": "2025-05-05T07:15:22.950041Z",
     "iopub.status.busy": "2025-05-05T07:15:22.949871Z",
     "iopub.status.idle": "2025-05-05T07:15:23.082143Z",
     "shell.execute_reply": "2025-05-05T07:15:23.081372Z",
     "shell.execute_reply.started": "2025-05-05T07:15:22.950027Z"
    }
   },
   "outputs": [],
   "source": [
    "dfs = {}\n",
    "for db in dbs[:-1]:  # exclude ESMAtlas\n",
    "    dfs[db] = taxonomy[db].division_name.value_counts().to_frame()\n",
    "    dfs[db] = dfs[db].groupby(dfs[db].index).sum().sort_values('count', ascending=False)"
   ]
  },
  {
   "cell_type": "code",
   "execution_count": 16,
   "id": "beb4a314-54bc-4652-b173-6407b81ef98c",
   "metadata": {
    "execution": {
     "iopub.execute_input": "2025-05-05T07:15:23.082938Z",
     "iopub.status.busy": "2025-05-05T07:15:23.082782Z",
     "iopub.status.idle": "2025-05-05T07:15:23.535096Z",
     "shell.execute_reply": "2025-05-05T07:15:23.534495Z",
     "shell.execute_reply.started": "2025-05-05T07:15:23.082926Z"
    }
   },
   "outputs": [
    {
     "data": {
      "image/png": "[encoded data removed]",
      "text/plain": [
       "<Figure size 600x550 with 1 Axes>"
      ]
     },
     "metadata": {},
     "output_type": "display_data"
    }
   ],
   "source": [
    "long_df_list = []\n",
    "\n",
    "for dataset_name, df in dfs.items():\n",
    "    temp = df.reset_index()  # Ensure category names are preserved\n",
    "    if 'Category' not in temp.columns:\n",
    "        temp = temp.rename(columns={temp.columns[0]: 'Category'})  # Rename first column to 'Category' if unnamed\n",
    "    temp['Dataset'] = dataset_name\n",
    "    long_df_list.append(temp)\n",
    "\n",
    "# Combine all dataframes\n",
    "combined_df = pd.concat(long_df_list, ignore_index=True)\n",
    "\n",
    "# Preserve Dataset order as in dfs\n",
    "dataset_order = list(dfs.keys())\n",
    "combined_df['Dataset'] = pd.Categorical(\n",
    "    combined_df['Dataset'],\n",
    "    categories=dataset_order,\n",
    "    ordered=True\n",
    ")\n",
    "\n",
    "# Category order by total count\n",
    "category_order = (\n",
    "    combined_df.groupby('Category', observed=True)['count']\n",
    "    .sum()\n",
    "    .sort_values(ascending=False)\n",
    "    .index\n",
    ")\n",
    "\n",
    "combined_df['Category'] = pd.Categorical(\n",
    "    combined_df['Category'],\n",
    "    categories=category_order,\n",
    "    ordered=True\n",
    ")\n",
    "\n",
    "label_map = {\n",
    "    \"afdb_light\": \"AFDB light\",\n",
    "    \"afdb_dark\": \"AFDB dark\",\n",
    "    \"mip\": \"MIP\"\n",
    "}\n",
    "\n",
    "custom_palette = {\n",
    "    \"AFDB dark\": \"salmon\",\n",
    "    \"AFDB light\": \"skyblue\",\n",
    "    \"MIP\": \"#98FB98\"\n",
    "}\n",
    "\n",
    "combined_df['Dataset'] = combined_df['Dataset'].map(label_map)\n",
    "combined_df['Category'] = combined_df['Category'].cat.rename_categories(\n",
    "    lambda x: 'Environmental\\n samples' if x == 'Environmental samples' else x\n",
    ")\n",
    "plt.figure(figsize=(6, 5.5))\n",
    "g = sns.barplot(\n",
    "    data=combined_df,\n",
    "    x=\"count\", y=\"Category\",\n",
    "    hue=\"Dataset\", orient=\"h\", dodge=True,\n",
    "    palette=custom_palette,\n",
    ")\n",
    "g.legend_.set_title(None)\n",
    "plt.title(\"Taxonomy assignment for AFDB and MIP proteins\", fontsize=12)\n",
    "plt.xscale(\"log\")\n",
    "plt.xlabel(\"Count\")\n",
    "plt.ylabel(\"\")\n",
    "plt.tight_layout()\n",
    "plt.show()"
   ]
  },
  {
   "cell_type": "markdown",
   "id": "ac1672f9-24a9-4c4e-a8e0-965deb7cac7e",
   "metadata": {},
   "source": [
    "## ESMAtlas biomes"
   ]
  },
  {
   "cell_type": "code",
   "execution_count": 17,
   "id": "9c5146fa-d642-4db7-b3bd-c7f1f53271a7",
   "metadata": {
    "execution": {
     "iopub.execute_input": "2025-05-05T07:15:23.536067Z",
     "iopub.status.busy": "2025-05-05T07:15:23.535874Z",
     "iopub.status.idle": "2025-05-05T07:15:23.738184Z",
     "shell.execute_reply": "2025-05-05T07:15:23.737569Z",
     "shell.execute_reply.started": "2025-05-05T07:15:23.536052Z"
    }
   },
   "outputs": [
    {
     "data": {
      "text/plain": [
       "'esm_biomes.html'"
      ]
     },
     "execution_count": 17,
     "metadata": {},
     "output_type": "execute_result"
    }
   ],
   "source": [
    "# Create a DataFrame with hierarchical split  \n",
    "esm_categories[['Main', 'Sub']] = esm_categories['biome_category'].str.split(', ', n=1, expand=True).fillna('')  \n",
    "\n",
    "# Create Sunburst chart  \n",
    "fig = px.sunburst(  \n",
    "    esm_categories,   \n",
    "    path=['Main', 'Sub'],   \n",
    "    values='count',   \n",
    "    color='Main',  # Color by main category  \n",
    "    color_discrete_sequence=px.colors.qualitative.Set3,  \n",
    ")  \n",
    "\n",
    "# Define threshold for \"small\" slices (e.g., 1%)  \n",
    "threshold = 0.01  # Adjust as needed  \n",
    "# Calculate total for percentage calculations  \n",
    "total = esm_categories['count'].sum()\n",
    "\n",
    "# Create a list of dictionaries for updating the text appearance  \n",
    "# We'll make text invisible for small slices by setting the color to 'rgba(0,0,0,0)'  \n",
    "custom_colors = []  \n",
    "for i, value in enumerate(fig.data[0].values):  \n",
    "    percentage = value / total  \n",
    "    if percentage < threshold:  \n",
    "        custom_colors.append('rgba(0,0,0,0)')  \n",
    "    else:  \n",
    "        custom_colors.append('black') \n",
    "\n",
    "# Update the trace with custom text colors  \n",
    "fig.update_traces(  \n",
    "    textinfo=\"label+percent entry\",  \n",
    "    textfont=dict(  \n",
    "        size=14,  \n",
    "        color=custom_colors  \n",
    "    )  \n",
    ")  \n",
    "\n",
    "# Manual curation - rare categories are not visible  \n",
    "annotations = [  \n",
    "    dict(  \n",
    "        x=0.71,  # Adjust the x, y position as needed  \n",
    "        y=0.48,   \n",
    "        text=\"Unknown <br> 0.7%\",  # Label text (read from dataframe)  <------------ !!!\n",
    "        showarrow=False,  \n",
    "        font=dict(size=10, color=\"black\"),  \n",
    "        align=\"center\"  \n",
    "    ),  \n",
    "    dict(  \n",
    "        x=0.29,  # Adjust the x, y position as needed  \n",
    "        y=0.43,  \n",
    "        text=\"Other <br> 0.3%\",  # Label text (read from dataframe)   <------------ !!!\n",
    "        showarrow=False,  \n",
    "        font=dict(size=10, color=\"black\"),  \n",
    "        align=\"center\"  \n",
    "    ),  \n",
    "]  \n",
    "fig.update_layout(\n",
    "    title=dict(\n",
    "        text=\"Biome assignment for ESMAtlas proteins\",\n",
    "        x=0.5,\n",
    "        xanchor='center',\n",
    "        font=dict(size=19)\n",
    "    ),\n",
    "    annotations=annotations\n",
    ")\n",
    "plotly.offline.plot(fig, filename='esm_biomes.html')  "
   ]
  },
  {
   "cell_type": "markdown",
   "id": "3e7aa8ed-4130-4be8-ab0b-1143df057841",
   "metadata": {},
   "source": [
    "# Supplementary plots"
   ]
  },
  {
   "cell_type": "markdown",
   "id": "3570b632-e05c-4ff2-8e39-1c6638f2dba1",
   "metadata": {},
   "source": [
    "## Difference between taxonomy of dark and light AFDB proteins"
   ]
  },
  {
   "cell_type": "code",
   "execution_count": 18,
   "id": "99f97e0e-01d5-4ad7-bcbd-a55d14afdb12",
   "metadata": {
    "execution": {
     "iopub.execute_input": "2025-05-05T07:15:23.739520Z",
     "iopub.status.busy": "2025-05-05T07:15:23.739318Z",
     "iopub.status.idle": "2025-05-05T07:15:25.425039Z",
     "shell.execute_reply": "2025-05-05T07:15:25.424199Z",
     "shell.execute_reply.started": "2025-05-05T07:15:23.739503Z"
    }
   },
   "outputs": [
    {
     "data": {
      "image/png": "[encoded data removed]",
      "text/plain": [
       "<Figure size 900x700 with 2 Axes>"
      ]
     },
     "metadata": {},
     "output_type": "display_data"
    }
   ],
   "source": [
    "fig, ax = plt.subplots(2, 1, figsize=(9, 7))\n",
    "for i, (db, lab) in enumerate(zip(['afdb_light', 'afdb_dark'], \n",
    "                                  ['AFDB light', 'AFDB dark'])):\n",
    "    # Assign quality\n",
    "    taxonomy[db]['HQ'] = 'False'\n",
    "    taxonomy[db].loc[taxonomy[db].index.isin(afdb_hq), 'HQ'] = 'True'\n",
    "    # Group and count\n",
    "    grouped = taxonomy[db].groupby(['division_name', 'HQ']).size().unstack(fill_value=0)\n",
    "    grouped.index = grouped.index.str.replace('Environmental samples', \n",
    "                                              'Environmental\\n samples')\n",
    "    # Normalize per division_name\n",
    "    grouped_norm = grouped.div(grouped.sum(axis=1), axis=0)\n",
    "    grouped_norm = grouped_norm[['True', 'False']] \n",
    "    # Calculate proportion of HQ=True for each division_name\n",
    "    hq_true_proportions = grouped_norm['True']\n",
    "    # Sort the division_name based on the proportion of HQ=True\n",
    "    sorted_divisions = hq_true_proportions.sort_values(ascending=False).index\n",
    "    # Reorder the DataFrame based on sorted divisions\n",
    "    grouped_norm = grouped_norm.loc[sorted_divisions]\n",
    "    # Plot stacked bar chart\n",
    "    grouped_norm.plot(kind='bar', stacked=True, alpha=0.8,\n",
    "                      ax=ax[i], colormap='coolwarm')\n",
    "    ax[i].set_xlabel('')\n",
    "    ax[i].set_ylabel('Proportion')\n",
    "    ax[i].set_title(lab)\n",
    "    ax[i].tick_params(axis='x', labelrotation=45)\n",
    "    ax[i].legend(title='HQ')\n",
    "plt.tight_layout()\n",
    "plt.show()"
   ]
  },
  {
   "cell_type": "markdown",
   "id": "fb601838-90de-4570-9e93-f412a62222b1",
   "metadata": {},
   "source": [
    "## Prokaryotic content in heterogeneous clusters"
   ]
  },
  {
   "cell_type": "markdown",
   "id": "25155393-408b-4cf9-b642-a05f695b014b",
   "metadata": {},
   "source": [
    "#### Add taxonomy for AFDB HQ and MIP"
   ]
  },
  {
   "cell_type": "code",
   "execution_count": 19,
   "id": "b996935c-e492-4eac-b714-b2cd1902dfcb",
   "metadata": {
    "execution": {
     "iopub.execute_input": "2025-05-05T07:15:25.426194Z",
     "iopub.status.busy": "2025-05-05T07:15:25.425996Z",
     "iopub.status.idle": "2025-05-05T07:15:33.886297Z",
     "shell.execute_reply": "2025-05-05T07:15:33.885320Z",
     "shell.execute_reply.started": "2025-05-05T07:15:25.426180Z"
    }
   },
   "outputs": [],
   "source": [
    "all_clusters_exp = all_clusters.explode('Protein')\n",
    "taxonomy_afdb_mip = pd.concat([\n",
    "    taxonomy['afdb_dark'][taxonomy['afdb_dark'].index.isin(afdb_hq)],\n",
    "    taxonomy['afdb_light'][taxonomy['afdb_light'].index.isin(afdb_hq)],\n",
    "    taxonomy['mip'].drop(columns=['reference'])])\n",
    "all_clusters_exp = all_clusters_exp.join(taxonomy_afdb_mip, on='Protein')"
   ]
  },
  {
   "cell_type": "markdown",
   "id": "e8c20e5b-710d-41d7-b20e-c5826916943b",
   "metadata": {},
   "source": [
    "### Compute prokaryotic proportion in clusters"
   ]
  },
  {
   "cell_type": "code",
   "execution_count": 20,
   "id": "7eb55e00-04fd-477b-982a-aa6161df0ac6",
   "metadata": {
    "execution": {
     "iopub.execute_input": "2025-05-05T07:15:33.887295Z",
     "iopub.status.busy": "2025-05-05T07:15:33.887107Z",
     "iopub.status.idle": "2025-05-05T07:15:36.962726Z",
     "shell.execute_reply": "2025-05-05T07:15:36.961147Z",
     "shell.execute_reply.started": "2025-05-05T07:15:33.887280Z"
    }
   },
   "outputs": [],
   "source": [
    "prokaryotic  = (\n",
    "    all_clusters_exp.dropna()\n",
    "    .assign(is_prok=lambda df: df['division_group'] == 'Prokaryote')\n",
    "    .groupby('Cluster')['is_prok']\n",
    "    .agg(prop_prokaryotic='mean')\n",
    ")"
   ]
  },
  {
   "cell_type": "code",
   "execution_count": 21,
   "id": "451a1241-57ca-416f-b130-68dcac9e0822",
   "metadata": {
    "execution": {
     "iopub.execute_input": "2025-05-05T07:15:36.964230Z",
     "iopub.status.busy": "2025-05-05T07:15:36.964026Z",
     "iopub.status.idle": "2025-05-05T07:15:37.365101Z",
     "shell.execute_reply": "2025-05-05T07:15:37.364082Z",
     "shell.execute_reply.started": "2025-05-05T07:15:36.964214Z"
    }
   },
   "outputs": [],
   "source": [
    "hetero_clusts = heterogeneity_hq.query('counts_total >= 10 and prop_esm < 0.3')\n",
    "# hetero_clusts = heterogeneity_hq.query('counts_total >= 10 and prop_esm > 0.7')\n",
    "hetero_clusts = hetero_clusts.join(prokaryotic, how='inner')"
   ]
  },
  {
   "cell_type": "code",
   "execution_count": 22,
   "id": "f079d098-85d0-4878-813c-c06d8657c1bb",
   "metadata": {
    "execution": {
     "iopub.execute_input": "2025-05-05T07:15:37.366209Z",
     "iopub.status.busy": "2025-05-05T07:15:37.366027Z",
     "iopub.status.idle": "2025-05-05T07:15:37.522167Z",
     "shell.execute_reply": "2025-05-05T07:15:37.521507Z",
     "shell.execute_reply.started": "2025-05-05T07:15:37.366193Z"
    }
   },
   "outputs": [
    {
     "data": {
      "image/png": "[encoded data removed]",
      "text/plain": [
       "<Figure size 640x480 with 1 Axes>"
      ]
     },
     "metadata": {},
     "output_type": "display_data"
    }
   ],
   "source": [
    "# Bin the data\n",
    "hetero_clusts['size_bin'] = pd.cut(\n",
    "    hetero_clusts['counts_total'], \n",
    "    bins=[\n",
    "        hetero_clusts['counts_total'].min()-1, 11, 15, 20, 30, 50, \n",
    "        hetero_clusts['counts_total'].max()\n",
    "    ]\n",
    ")\n",
    "\n",
    "# Create the boxplot\n",
    "ax = hetero_clusts.boxplot(\n",
    "    column='prop_prokaryotic', \n",
    "    by='size_bin', \n",
    "    grid=False\n",
    ")\n",
    "\n",
    "# Customize plot\n",
    "plt.title(r'Heterogeneous clusters with ESMAtlas content below 30%', fontsize=10)\n",
    "# plt.title(r'Heterogeneous clusters with ESMAtlas content above 70%', fontsize=10)\n",
    "plt.suptitle('')\n",
    "plt.ylim(-0.05, 1.13)\n",
    "plt.xlabel('Cluster size')\n",
    "plt.ylabel('AFDB + MIP Prokaryotic proteins')\n",
    "plt.tight_layout()\n",
    "\n",
    "# Get the xtick labels and positions\n",
    "xticks = ax.get_xticks()\n",
    "xticklabels = [tick.get_text() for tick in ax.get_xticklabels()]\n",
    "\n",
    "# Annotate with mean ± std and number of points\n",
    "for i, label in enumerate(xticklabels):\n",
    "    bin_data = hetero_clusts[hetero_clusts['size_bin'].astype(str) == label]['prop_prokaryotic']\n",
    "    if not bin_data.empty:\n",
    "        mean = bin_data.mean()\n",
    "        std = bin_data.std()\n",
    "        count = bin_data.count()\n",
    "\n",
    "        # Place mean ± std above the box\n",
    "        ax.text(\n",
    "            xticks[i], \n",
    "            bin_data.max() + 0.02,  # adjust height if necessary\n",
    "            f'{mean:.2f} ± {std:.2f}', \n",
    "            ha='center', \n",
    "            va='bottom', \n",
    "            fontsize=8, \n",
    "            color='gray'\n",
    "        )\n",
    "\n",
    "        # Place count below the x-axis tick\n",
    "        ax.text(\n",
    "            xticks[i], \n",
    "            ax.get_ylim()[1] - 0.03,  # slightly below min y\n",
    "            f'N={count}', \n",
    "            ha='center', \n",
    "            va='top', \n",
    "            fontsize=8, \n",
    "            color='gray'\n",
    "        )\n",
    "plt.show()"
   ]
  },
  {
   "cell_type": "markdown",
   "id": "ff831eb2-5da8-46cc-8d64-c4400433ab2c",
   "metadata": {},
   "source": [
    "# Figure 6C\n",
    "## Clusters with the largest taxonomic diversity"
   ]
  },
  {
   "cell_type": "code",
   "execution_count": 23,
   "id": "3c73110f-abe3-4fe5-99ee-ea0bc7cbdfcb",
   "metadata": {
    "execution": {
     "iopub.execute_input": "2025-05-05T07:15:37.522984Z",
     "iopub.status.busy": "2025-05-05T07:15:37.522817Z",
     "iopub.status.idle": "2025-05-05T07:15:37.562777Z",
     "shell.execute_reply": "2025-05-05T07:15:37.561839Z",
     "shell.execute_reply.started": "2025-05-05T07:15:37.522971Z"
    }
   },
   "outputs": [],
   "source": [
    "hetero_large = heterogeneity_hq.query('counts_total >= 100')"
   ]
  },
  {
   "cell_type": "code",
   "execution_count": 24,
   "id": "db6001a3-85f4-43f7-9ba1-e36ad64c78b0",
   "metadata": {
    "execution": {
     "iopub.execute_input": "2025-05-05T07:15:37.563848Z",
     "iopub.status.busy": "2025-05-05T07:15:37.563665Z",
     "iopub.status.idle": "2025-05-05T07:19:14.776796Z",
     "shell.execute_reply": "2025-05-05T07:19:14.775916Z",
     "shell.execute_reply.started": "2025-05-05T07:15:37.563834Z"
    }
   },
   "outputs": [
    {
     "name": "stderr",
     "output_type": "stream",
     "text": [
      "/tmp/ipykernel_462096/3771073614.py:1: SettingWithCopyWarning:\n",
      "\n",
      "\n",
      "A value is trying to be set on a copy of a slice from a DataFrame.\n",
      "Try using .loc[row_indexer,col_indexer] = value instead\n",
      "\n",
      "See the caveats in the documentation: https://pandas.pydata.org/pandas-docs/stable/user_guide/indexing.html#returning-a-view-versus-a-copy\n",
      "\n",
      "100%|██████████████████████████████████████████████████████████████████████████████████████████████████████████████████████████████| 411/411 [03:37<00:00,  1.89it/s]\n"
     ]
    }
   ],
   "source": [
    "hetero_large['entropy'] = np.nan\n",
    "tax_groups_dict = {}\n",
    "for i, row in tqdm(hetero_large.iterrows(), total=len(hetero_large)):\n",
    "    cluster = row.name\n",
    "    proteins = all_clusters[all_clusters.Cluster == cluster].Protein.values[0]\n",
    "    tax_groups = {}\n",
    "    for k in ['afdb_light', 'afdb_dark']:\n",
    "        taxs = taxonomy[k][taxonomy[k].index.isin(proteins)]\n",
    "        taxs = taxs[taxs.index.isin(afdb_hq)]\n",
    "        tax_groups[k] = taxs.division_name.value_counts()\n",
    "    tax_groups = pd.concat(tax_groups)\n",
    "    tax_groups_dict[cluster] = tax_groups\n",
    "    hetero_large.loc[cluster, 'entropy'] = entropy(tax_groups.values)"
   ]
  },
  {
   "cell_type": "code",
   "execution_count": 25,
   "id": "7c37d45e-8d88-4953-b396-09109c6294c0",
   "metadata": {
    "execution": {
     "iopub.execute_input": "2025-05-05T07:19:14.778017Z",
     "iopub.status.busy": "2025-05-05T07:19:14.777813Z",
     "iopub.status.idle": "2025-05-05T07:19:14.789173Z",
     "shell.execute_reply": "2025-05-05T07:19:14.788694Z",
     "shell.execute_reply.started": "2025-05-05T07:19:14.778002Z"
    }
   },
   "outputs": [
    {
     "data": {
      "text/html": [
       "<div>\n",
       "<style scoped>\n",
       "    .dataframe tbody tr th:only-of-type {\n",
       "        vertical-align: middle;\n",
       "    }\n",
       "\n",
       "    .dataframe tbody tr th {\n",
       "        vertical-align: top;\n",
       "    }\n",
       "\n",
       "    .dataframe thead th {\n",
       "        text-align: right;\n",
       "    }\n",
       "</style>\n",
       "<table border=\"1\" class=\"dataframe\">\n",
       "  <thead>\n",
       "    <tr style=\"text-align: right;\">\n",
       "      <th></th>\n",
       "      <th>counts_afdb_light</th>\n",
       "      <th>counts_afdb_dark</th>\n",
       "      <th>counts_esmatlas</th>\n",
       "      <th>counts_mip_clusters</th>\n",
       "      <th>counts_mip_singletons</th>\n",
       "      <th>counts_total</th>\n",
       "      <th>prop_esm</th>\n",
       "      <th>entropy</th>\n",
       "    </tr>\n",
       "    <tr>\n",
       "      <th>protein</th>\n",
       "      <th></th>\n",
       "      <th></th>\n",
       "      <th></th>\n",
       "      <th></th>\n",
       "      <th></th>\n",
       "      <th></th>\n",
       "      <th></th>\n",
       "      <th></th>\n",
       "    </tr>\n",
       "  </thead>\n",
       "  <tbody>\n",
       "    <tr>\n",
       "      <th>MGYP000855844059</th>\n",
       "      <td>19</td>\n",
       "      <td>1</td>\n",
       "      <td>103</td>\n",
       "      <td>0</td>\n",
       "      <td>0</td>\n",
       "      <td>123</td>\n",
       "      <td>0.837398</td>\n",
       "      <td>1.565731</td>\n",
       "    </tr>\n",
       "    <tr>\n",
       "      <th>MGYP002168801071</th>\n",
       "      <td>19</td>\n",
       "      <td>0</td>\n",
       "      <td>144</td>\n",
       "      <td>0</td>\n",
       "      <td>0</td>\n",
       "      <td>163</td>\n",
       "      <td>0.883436</td>\n",
       "      <td>1.559087</td>\n",
       "    </tr>\n",
       "    <tr>\n",
       "      <th>MGYP003387535279</th>\n",
       "      <td>55</td>\n",
       "      <td>0</td>\n",
       "      <td>78</td>\n",
       "      <td>0</td>\n",
       "      <td>0</td>\n",
       "      <td>133</td>\n",
       "      <td>0.586466</td>\n",
       "      <td>1.545622</td>\n",
       "    </tr>\n",
       "    <tr>\n",
       "      <th>MGYP001416922367</th>\n",
       "      <td>71</td>\n",
       "      <td>1</td>\n",
       "      <td>71</td>\n",
       "      <td>0</td>\n",
       "      <td>0</td>\n",
       "      <td>143</td>\n",
       "      <td>0.496503</td>\n",
       "      <td>1.502733</td>\n",
       "    </tr>\n",
       "    <tr>\n",
       "      <th>MGYP001180411849</th>\n",
       "      <td>55</td>\n",
       "      <td>0</td>\n",
       "      <td>60</td>\n",
       "      <td>0</td>\n",
       "      <td>0</td>\n",
       "      <td>115</td>\n",
       "      <td>0.521739</td>\n",
       "      <td>1.485241</td>\n",
       "    </tr>\n",
       "    <tr>\n",
       "      <th>A0A409XNK1</th>\n",
       "      <td>32</td>\n",
       "      <td>0</td>\n",
       "      <td>92</td>\n",
       "      <td>0</td>\n",
       "      <td>0</td>\n",
       "      <td>124</td>\n",
       "      <td>0.741935</td>\n",
       "      <td>1.479065</td>\n",
       "    </tr>\n",
       "    <tr>\n",
       "      <th>MGYP003352392766</th>\n",
       "      <td>30</td>\n",
       "      <td>0</td>\n",
       "      <td>88</td>\n",
       "      <td>0</td>\n",
       "      <td>0</td>\n",
       "      <td>118</td>\n",
       "      <td>0.745763</td>\n",
       "      <td>1.477087</td>\n",
       "    </tr>\n",
       "    <tr>\n",
       "      <th>U6GJL0</th>\n",
       "      <td>97</td>\n",
       "      <td>0</td>\n",
       "      <td>48</td>\n",
       "      <td>0</td>\n",
       "      <td>0</td>\n",
       "      <td>145</td>\n",
       "      <td>0.331034</td>\n",
       "      <td>1.454521</td>\n",
       "    </tr>\n",
       "    <tr>\n",
       "      <th>MGYP000172718835</th>\n",
       "      <td>64</td>\n",
       "      <td>0</td>\n",
       "      <td>105</td>\n",
       "      <td>0</td>\n",
       "      <td>0</td>\n",
       "      <td>169</td>\n",
       "      <td>0.621302</td>\n",
       "      <td>1.422992</td>\n",
       "    </tr>\n",
       "    <tr>\n",
       "      <th>A0A150GGL3</th>\n",
       "      <td>60</td>\n",
       "      <td>0</td>\n",
       "      <td>172</td>\n",
       "      <td>0</td>\n",
       "      <td>0</td>\n",
       "      <td>232</td>\n",
       "      <td>0.741379</td>\n",
       "      <td>1.422331</td>\n",
       "    </tr>\n",
       "    <tr>\n",
       "      <th>MGYP001769746266</th>\n",
       "      <td>51</td>\n",
       "      <td>0</td>\n",
       "      <td>182</td>\n",
       "      <td>0</td>\n",
       "      <td>0</td>\n",
       "      <td>233</td>\n",
       "      <td>0.781116</td>\n",
       "      <td>1.420715</td>\n",
       "    </tr>\n",
       "    <tr>\n",
       "      <th>A0A349YQA2</th>\n",
       "      <td>76</td>\n",
       "      <td>0</td>\n",
       "      <td>28</td>\n",
       "      <td>0</td>\n",
       "      <td>0</td>\n",
       "      <td>104</td>\n",
       "      <td>0.269231</td>\n",
       "      <td>1.377939</td>\n",
       "    </tr>\n",
       "    <tr>\n",
       "      <th>MGYP000483424581</th>\n",
       "      <td>81</td>\n",
       "      <td>0</td>\n",
       "      <td>255</td>\n",
       "      <td>0</td>\n",
       "      <td>0</td>\n",
       "      <td>336</td>\n",
       "      <td>0.758929</td>\n",
       "      <td>1.376375</td>\n",
       "    </tr>\n",
       "    <tr>\n",
       "      <th>MGYP001033289541</th>\n",
       "      <td>26</td>\n",
       "      <td>0</td>\n",
       "      <td>84</td>\n",
       "      <td>0</td>\n",
       "      <td>0</td>\n",
       "      <td>110</td>\n",
       "      <td>0.763636</td>\n",
       "      <td>1.374115</td>\n",
       "    </tr>\n",
       "    <tr>\n",
       "      <th>MGYP001346010305</th>\n",
       "      <td>89</td>\n",
       "      <td>0</td>\n",
       "      <td>350</td>\n",
       "      <td>0</td>\n",
       "      <td>0</td>\n",
       "      <td>439</td>\n",
       "      <td>0.797267</td>\n",
       "      <td>1.369163</td>\n",
       "    </tr>\n",
       "    <tr>\n",
       "      <th>A0A6A5UDC9</th>\n",
       "      <td>99</td>\n",
       "      <td>0</td>\n",
       "      <td>348</td>\n",
       "      <td>0</td>\n",
       "      <td>0</td>\n",
       "      <td>447</td>\n",
       "      <td>0.778523</td>\n",
       "      <td>1.365938</td>\n",
       "    </tr>\n",
       "    <tr>\n",
       "      <th>MGYP003404686161</th>\n",
       "      <td>27</td>\n",
       "      <td>0</td>\n",
       "      <td>88</td>\n",
       "      <td>0</td>\n",
       "      <td>0</td>\n",
       "      <td>115</td>\n",
       "      <td>0.765217</td>\n",
       "      <td>1.364908</td>\n",
       "    </tr>\n",
       "    <tr>\n",
       "      <th>MGYP003348154851</th>\n",
       "      <td>25</td>\n",
       "      <td>0</td>\n",
       "      <td>185</td>\n",
       "      <td>0</td>\n",
       "      <td>1</td>\n",
       "      <td>211</td>\n",
       "      <td>0.876777</td>\n",
       "      <td>1.355162</td>\n",
       "    </tr>\n",
       "    <tr>\n",
       "      <th>MGYP002866728590</th>\n",
       "      <td>40</td>\n",
       "      <td>0</td>\n",
       "      <td>74</td>\n",
       "      <td>0</td>\n",
       "      <td>0</td>\n",
       "      <td>114</td>\n",
       "      <td>0.649123</td>\n",
       "      <td>1.354829</td>\n",
       "    </tr>\n",
       "    <tr>\n",
       "      <th>A0A6T0E1R0</th>\n",
       "      <td>53</td>\n",
       "      <td>0</td>\n",
       "      <td>51</td>\n",
       "      <td>0</td>\n",
       "      <td>0</td>\n",
       "      <td>104</td>\n",
       "      <td>0.490385</td>\n",
       "      <td>1.354464</td>\n",
       "    </tr>\n",
       "  </tbody>\n",
       "</table>\n",
       "</div>"
      ],
      "text/plain": [
       "                  counts_afdb_light  counts_afdb_dark  counts_esmatlas  \\\n",
       "protein                                                                  \n",
       "MGYP000855844059                 19                 1              103   \n",
       "MGYP002168801071                 19                 0              144   \n",
       "MGYP003387535279                 55                 0               78   \n",
       "MGYP001416922367                 71                 1               71   \n",
       "MGYP001180411849                 55                 0               60   \n",
       "A0A409XNK1                       32                 0               92   \n",
       "MGYP003352392766                 30                 0               88   \n",
       "U6GJL0                           97                 0               48   \n",
       "MGYP000172718835                 64                 0              105   \n",
       "A0A150GGL3                       60                 0              172   \n",
       "MGYP001769746266                 51                 0              182   \n",
       "A0A349YQA2                       76                 0               28   \n",
       "MGYP000483424581                 81                 0              255   \n",
       "MGYP001033289541                 26                 0               84   \n",
       "MGYP001346010305                 89                 0              350   \n",
       "A0A6A5UDC9                       99                 0              348   \n",
       "MGYP003404686161                 27                 0               88   \n",
       "MGYP003348154851                 25                 0              185   \n",
       "MGYP002866728590                 40                 0               74   \n",
       "A0A6T0E1R0                       53                 0               51   \n",
       "\n",
       "                  counts_mip_clusters  counts_mip_singletons  counts_total  \\\n",
       "protein                                                                      \n",
       "MGYP000855844059                    0                      0           123   \n",
       "MGYP002168801071                    0                      0           163   \n",
       "MGYP003387535279                    0                      0           133   \n",
       "MGYP001416922367                    0                      0           143   \n",
       "MGYP001180411849                    0                      0           115   \n",
       "A0A409XNK1                          0                      0           124   \n",
       "MGYP003352392766                    0                      0           118   \n",
       "U6GJL0                              0                      0           145   \n",
       "MGYP000172718835                    0                      0           169   \n",
       "A0A150GGL3                          0                      0           232   \n",
       "MGYP001769746266                    0                      0           233   \n",
       "A0A349YQA2                          0                      0           104   \n",
       "MGYP000483424581                    0                      0           336   \n",
       "MGYP001033289541                    0                      0           110   \n",
       "MGYP001346010305                    0                      0           439   \n",
       "A0A6A5UDC9                          0                      0           447   \n",
       "MGYP003404686161                    0                      0           115   \n",
       "MGYP003348154851                    0                      1           211   \n",
       "MGYP002866728590                    0                      0           114   \n",
       "A0A6T0E1R0                          0                      0           104   \n",
       "\n",
       "                  prop_esm   entropy  \n",
       "protein                               \n",
       "MGYP000855844059  0.837398  1.565731  \n",
       "MGYP002168801071  0.883436  1.559087  \n",
       "MGYP003387535279  0.586466  1.545622  \n",
       "MGYP001416922367  0.496503  1.502733  \n",
       "MGYP001180411849  0.521739  1.485241  \n",
       "A0A409XNK1        0.741935  1.479065  \n",
       "MGYP003352392766  0.745763  1.477087  \n",
       "U6GJL0            0.331034  1.454521  \n",
       "MGYP000172718835  0.621302  1.422992  \n",
       "A0A150GGL3        0.741379  1.422331  \n",
       "MGYP001769746266  0.781116  1.420715  \n",
       "A0A349YQA2        0.269231  1.377939  \n",
       "MGYP000483424581  0.758929  1.376375  \n",
       "MGYP001033289541  0.763636  1.374115  \n",
       "MGYP001346010305  0.797267  1.369163  \n",
       "A0A6A5UDC9        0.778523  1.365938  \n",
       "MGYP003404686161  0.765217  1.364908  \n",
       "MGYP003348154851  0.876777  1.355162  \n",
       "MGYP002866728590  0.649123  1.354829  \n",
       "A0A6T0E1R0        0.490385  1.354464  "
      ]
     },
     "execution_count": 25,
     "metadata": {},
     "output_type": "execute_result"
    }
   ],
   "source": [
    "hetero_large.sort_values('entropy', ascending=False)[:20]"
   ]
  }
 ],
 "metadata": {
  "kernelspec": {
   "display_name": "kit",
   "language": "python",
   "name": "kit"
  },
  "language_info": {
   "codemirror_mode": {
    "name": "ipython",
    "version": 3
   },
   "file_extension": ".py",
   "mimetype": "text/x-python",
   "name": "python",
   "nbconvert_exporter": "python",
   "pygments_lexer": "ipython3",
   "version": "3.12.8"
  }
 },
 "nbformat": 4,
 "nbformat_minor": 5
}
